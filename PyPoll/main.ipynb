{
 "cells": [
  {
   "cell_type": "code",
   "execution_count": 1,
   "metadata": {},
   "outputs": [
    {
     "name": "stdout",
     "output_type": "stream",
     "text": [
      "Election Results\n",
      "-----------------------------\n",
      "Total Votes: 3521001\n",
      "-----------------------------\n",
      "Khan: 63.0% (2218231)\n",
      "Correy: 20.0% (704200)\n",
      "Li: 14.0% (492940)\n",
      "O'Tooley: 3.0% (105630)\n",
      "-----------------------------\n",
      "Winner: Khan\n"
     ]
    }
   ],
   "source": [
    "# dependencies\n",
    "import os\n",
    "import csv\n",
    "\n",
    "# create path to Election Data csv file\n",
    "Pollcsv = os.path.join(\"Resources\",\"election_data.csv\")\n",
    "\n",
    "# read csv file\n",
    "with open(Pollcsv) as csvfile:\n",
    "   \n",
    "    # define values and skip headers\n",
    "    pollreader = csv.reader(csvfile, delimiter = ',')\n",
    "    pollheader = next(pollreader)\n",
    "    poll_list = list(pollreader)\n",
    "    candidate_dict = {}\n",
    "    \n",
    "    # calculate total vote count\n",
    "    total_votes = len(poll_list)\n",
    "    \n",
    "    # create dicationary with unique candidates from Candidate column and total votes by candidate counts\n",
    "    for row in poll_list:\n",
    "        candidate = row[2]\n",
    "        if candidate in candidate_dict:\n",
    "            candidate_dict[candidate] += 1\n",
    "        else:\n",
    "            candidate_dict[candidate] = 1\n",
    "    \n",
    "    # create values for winning candidate & vote count\n",
    "    most_votes = 0\n",
    "    winner = \"\"\n",
    "    \n",
    "    # find percentage of total votes per candidate\n",
    "    for candidate in candidate_dict:\n",
    "        vote_count = candidate_dict[candidate]\n",
    "        candidate_dict[candidate] = (vote_count, vote_count/total_votes)\n",
    "        if vote_count > most_votes:\n",
    "            most_votes = vote_count\n",
    "            winner = candidate \n",
    "    \n",
    "    # setting value for formatting loop\n",
    "    formatted_string = \"\"\n",
    "    \n",
    "    # create loop to format results\n",
    "    for candidate in candidate_dict:\n",
    "        tup = candidate_dict[candidate]\n",
    "        formatted_string += \"{}: {}% ({})\\n\".format(candidate, round(tup[1] * 100, 1), tup[0])\n",
    "  \n",
    "    # creating/formatting analysis & storing as function\n",
    "    def analysis():\n",
    "        return (f\"Election Results\\n\"\n",
    "               \"-----------------------------\\n\"\n",
    "               \"Total Votes: {}\\n\"\n",
    "               \"-----------------------------\\n\"\n",
    "               \"{}\"\n",
    "               \"-----------------------------\\n\" \n",
    "               \"Winner: {}\".format(total_votes, formatted_string, winner))\n",
    "    \n",
    "# write analysis to text file\n",
    "output_path = os.path.join(\"Analysis\", \"election_analysis.txt\")\n",
    "with open(output_path, \"w\") as txt:\n",
    "    print(analysis(), file = txt)\n",
    "\n",
    "# print analysis to Terminal\n",
    "print(analysis())"
   ]
  },
  {
   "cell_type": "code",
   "execution_count": null,
   "metadata": {},
   "outputs": [],
   "source": []
  }
 ],
 "metadata": {
  "kernelspec": {
   "display_name": "Python 3",
   "language": "python",
   "name": "python3"
  },
  "language_info": {
   "codemirror_mode": {
    "name": "ipython",
    "version": 3
   },
   "file_extension": ".py",
   "mimetype": "text/x-python",
   "name": "python",
   "nbconvert_exporter": "python",
   "pygments_lexer": "ipython3",
   "version": "3.7.6"
  }
 },
 "nbformat": 4,
 "nbformat_minor": 4
}
