{
 "cells": [
  {
   "cell_type": "code",
   "execution_count": 1,
   "metadata": {},
   "outputs": [
    {
     "name": "stdout",
     "output_type": "stream",
     "text": [
      "Financial Analysis\n",
      "----------------------\n",
      "Total Months: 86\n",
      "Net Profits & Losses: $38382578\n",
      "Average Change: $-2315.12\n",
      "Greatest Increase in Profits: Feb-2012 ($1926159)\n",
      "Greatest Decrease in Profits: Sep-2013 ($-2196167)\n"
     ]
    }
   ],
   "source": [
    "# dependencies\n",
    "import os\n",
    "import csv\n",
    "\n",
    "# create path to Budget Data csv file\n",
    "BankCSV = os.path.join(\"Resources\",\"budget_data.csv\")\n",
    "\n",
    "# read csv file\n",
    "with open(BankCSV) as csvfile:\n",
    "    bankreader = csv.reader(csvfile, delimiter = ',')\n",
    "    \n",
    "    # skip headers\n",
    "    bankheader = next(bankreader)\n",
    "    \n",
    "    # define values\n",
    "    banklist = list(bankreader)\n",
    "    total_PL = 0\n",
    "    total_change = 0 \n",
    "    average_change = 0\n",
    "   \n",
    "    # calculate total months\n",
    "    months = len(banklist)\n",
    "    \n",
    "    # calculate net total amount of P & L\n",
    "    for row in banklist:\n",
    "        total_PL += int(row[1])\n",
    "        i = 1\n",
    "    \n",
    "    # define values for maximum & minimum changes\n",
    "    maximum = int(banklist[1][1]) - int(banklist[0][1])\n",
    "    minimum = int(banklist[1][1]) - int(banklist[0][1])\n",
    "    max_date = banklist[1][0]\n",
    "    min_date = banklist[1][0]\n",
    "    \n",
    "    # calculate monthly change & total change\n",
    "    while i < len(banklist):\n",
    "        change = int(banklist[i][1]) - int(banklist[i - 1][1])\n",
    "        total_change += change\n",
    "        \n",
    "        # calculate greatest increase in profits & corresponding month\n",
    "        if change > maximum:\n",
    "            maximum = change\n",
    "            max_date = banklist[i][0]\n",
    "       \n",
    "        # calculate greatest decrease in losses & corresponding month\n",
    "        if change < minimum:\n",
    "            minimum = change\n",
    "            min_date = banklist[i][0]\n",
    "       \n",
    "        i += 1\n",
    "    \n",
    "    # calculate average change \n",
    "    average_change = round(total_change / (months - 1),2)\n",
    "\n",
    "# creating/formatting analysis & storing as function\n",
    "def analysis():\n",
    "    return (f\"Financial Analysis\\n\"\n",
    "          \"----------------------\\n\"\n",
    "          \"Total Months: {}\\n\"\n",
    "          \"Net Profits & Losses: ${}\\n\"\n",
    "          \"Average Change: ${}\\n\"\n",
    "          \"Greatest Increase in Profits: {} (${})\\n\"\n",
    "          \"Greatest Decrease in Profits: {} (${})\".format(months, total_PL, average_change, max_date, maximum, min_date, minimum))\n",
    "\n",
    "# write analysis to text file\n",
    "output_path = os.path.join(\"Analysis\",\"budget_analysis.txt\")\n",
    "with open(output_path, \"w\") as txt:\n",
    "    print(analysis(), file = txt)\n",
    "    \n",
    "#print analysis to terminal\n",
    "print(analysis())"
   ]
  },
  {
   "cell_type": "code",
   "execution_count": null,
   "metadata": {},
   "outputs": [],
   "source": []
  }
 ],
 "metadata": {
  "kernelspec": {
   "display_name": "Python 3",
   "language": "python",
   "name": "python3"
  },
  "language_info": {
   "codemirror_mode": {
    "name": "ipython",
    "version": 3
   },
   "file_extension": ".py",
   "mimetype": "text/x-python",
   "name": "python",
   "nbconvert_exporter": "python",
   "pygments_lexer": "ipython3",
   "version": "3.7.6"
  }
 },
 "nbformat": 4,
 "nbformat_minor": 4
}
